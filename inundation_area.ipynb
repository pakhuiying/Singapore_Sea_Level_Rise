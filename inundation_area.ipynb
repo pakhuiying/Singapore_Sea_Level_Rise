{
 "cells": [
  {
   "cell_type": "code",
   "execution_count": 6,
   "metadata": {},
   "outputs": [],
   "source": [
    "import importlib\n",
    "import run_sg_30m\n",
    "import bathtub\n",
    "importlib.reload(run_sg_30m)\n",
    "importlib.reload(bathtub)\n",
    "import run_sg_30m as bathtubSG\n",
    "from bathtub import Raster\n",
    "\n",
    "import os\n",
    "import fnmatch\n",
    "import numpy as np"
   ]
  },
  {
   "cell_type": "markdown",
   "metadata": {},
   "source": [
    "# Generate inundation map"
   ]
  },
  {
   "cell_type": "code",
   "execution_count": null,
   "metadata": {},
   "outputs": [],
   "source": [
    "DEM_dir = r\"C:\\Users\\hypak\\OneDrive - Singapore Management University\\Documents\\Data\\FABDEM_SG_30m\"\n",
    "DEM_fps = [os.path.join(DEM_dir,fp) for fp in os.listdir(DEM_dir) if fnmatch.fnmatch(fp,\"SGDEM*.tif\")]\n",
    "DEM_fps"
   ]
  },
  {
   "cell_type": "code",
   "execution_count": null,
   "metadata": {},
   "outputs": [],
   "source": [
    "store_dir = r\"C:\\Users\\hypak\\OneDrive - Singapore Management University\\Documents\\Data\\SG_SLR\\Inundation_maps_5m\"\n",
    "if not os.path.exists(store_dir):\n",
    "    os.mkdir(store_dir)\n",
    "for DEM_fp in DEM_fps:\n",
    "    try:\n",
    "        bathtubSG.main(DEM_fp,slr=5.0,store_dir=store_dir)\n",
    "    except Exception as e:\n",
    "        print(f'{DEM_fp}: {e}')\n",
    "        pass"
   ]
  },
  {
   "cell_type": "markdown",
   "metadata": {},
   "source": [
    "# Import DEM"
   ]
  },
  {
   "cell_type": "code",
   "execution_count": 10,
   "metadata": {},
   "outputs": [
    {
     "data": {
      "text/plain": [
       "['C:\\\\Users\\\\hypak\\\\OneDrive - Singapore Management University\\\\Documents\\\\Data\\\\FABDEM_SG_30m\\\\SGDEM0.tif',\n",
       " 'C:\\\\Users\\\\hypak\\\\OneDrive - Singapore Management University\\\\Documents\\\\Data\\\\FABDEM_SG_30m\\\\SGDEM1.tif',\n",
       " 'C:\\\\Users\\\\hypak\\\\OneDrive - Singapore Management University\\\\Documents\\\\Data\\\\FABDEM_SG_30m\\\\SGDEM10.tif',\n",
       " 'C:\\\\Users\\\\hypak\\\\OneDrive - Singapore Management University\\\\Documents\\\\Data\\\\FABDEM_SG_30m\\\\SGDEM11.tif',\n",
       " 'C:\\\\Users\\\\hypak\\\\OneDrive - Singapore Management University\\\\Documents\\\\Data\\\\FABDEM_SG_30m\\\\SGDEM12.tif',\n",
       " 'C:\\\\Users\\\\hypak\\\\OneDrive - Singapore Management University\\\\Documents\\\\Data\\\\FABDEM_SG_30m\\\\SGDEM13.tif',\n",
       " 'C:\\\\Users\\\\hypak\\\\OneDrive - Singapore Management University\\\\Documents\\\\Data\\\\FABDEM_SG_30m\\\\SGDEM14.tif',\n",
       " 'C:\\\\Users\\\\hypak\\\\OneDrive - Singapore Management University\\\\Documents\\\\Data\\\\FABDEM_SG_30m\\\\SGDEM15.tif',\n",
       " 'C:\\\\Users\\\\hypak\\\\OneDrive - Singapore Management University\\\\Documents\\\\Data\\\\FABDEM_SG_30m\\\\SGDEM16.tif',\n",
       " 'C:\\\\Users\\\\hypak\\\\OneDrive - Singapore Management University\\\\Documents\\\\Data\\\\FABDEM_SG_30m\\\\SGDEM17.tif',\n",
       " 'C:\\\\Users\\\\hypak\\\\OneDrive - Singapore Management University\\\\Documents\\\\Data\\\\FABDEM_SG_30m\\\\SGDEM18.tif',\n",
       " 'C:\\\\Users\\\\hypak\\\\OneDrive - Singapore Management University\\\\Documents\\\\Data\\\\FABDEM_SG_30m\\\\SGDEM19.tif',\n",
       " 'C:\\\\Users\\\\hypak\\\\OneDrive - Singapore Management University\\\\Documents\\\\Data\\\\FABDEM_SG_30m\\\\SGDEM2.tif',\n",
       " 'C:\\\\Users\\\\hypak\\\\OneDrive - Singapore Management University\\\\Documents\\\\Data\\\\FABDEM_SG_30m\\\\SGDEM20.tif',\n",
       " 'C:\\\\Users\\\\hypak\\\\OneDrive - Singapore Management University\\\\Documents\\\\Data\\\\FABDEM_SG_30m\\\\SGDEM21.tif',\n",
       " 'C:\\\\Users\\\\hypak\\\\OneDrive - Singapore Management University\\\\Documents\\\\Data\\\\FABDEM_SG_30m\\\\SGDEM22.tif',\n",
       " 'C:\\\\Users\\\\hypak\\\\OneDrive - Singapore Management University\\\\Documents\\\\Data\\\\FABDEM_SG_30m\\\\SGDEM23.tif',\n",
       " 'C:\\\\Users\\\\hypak\\\\OneDrive - Singapore Management University\\\\Documents\\\\Data\\\\FABDEM_SG_30m\\\\SGDEM24.tif',\n",
       " 'C:\\\\Users\\\\hypak\\\\OneDrive - Singapore Management University\\\\Documents\\\\Data\\\\FABDEM_SG_30m\\\\SGDEM25.tif',\n",
       " 'C:\\\\Users\\\\hypak\\\\OneDrive - Singapore Management University\\\\Documents\\\\Data\\\\FABDEM_SG_30m\\\\SGDEM26.tif',\n",
       " 'C:\\\\Users\\\\hypak\\\\OneDrive - Singapore Management University\\\\Documents\\\\Data\\\\FABDEM_SG_30m\\\\SGDEM27.tif',\n",
       " 'C:\\\\Users\\\\hypak\\\\OneDrive - Singapore Management University\\\\Documents\\\\Data\\\\FABDEM_SG_30m\\\\SGDEM28.tif',\n",
       " 'C:\\\\Users\\\\hypak\\\\OneDrive - Singapore Management University\\\\Documents\\\\Data\\\\FABDEM_SG_30m\\\\SGDEM29.tif',\n",
       " 'C:\\\\Users\\\\hypak\\\\OneDrive - Singapore Management University\\\\Documents\\\\Data\\\\FABDEM_SG_30m\\\\SGDEM3.tif',\n",
       " 'C:\\\\Users\\\\hypak\\\\OneDrive - Singapore Management University\\\\Documents\\\\Data\\\\FABDEM_SG_30m\\\\SGDEM30.tif',\n",
       " 'C:\\\\Users\\\\hypak\\\\OneDrive - Singapore Management University\\\\Documents\\\\Data\\\\FABDEM_SG_30m\\\\SGDEM31.tif',\n",
       " 'C:\\\\Users\\\\hypak\\\\OneDrive - Singapore Management University\\\\Documents\\\\Data\\\\FABDEM_SG_30m\\\\SGDEM32.tif',\n",
       " 'C:\\\\Users\\\\hypak\\\\OneDrive - Singapore Management University\\\\Documents\\\\Data\\\\FABDEM_SG_30m\\\\SGDEM33.tif',\n",
       " 'C:\\\\Users\\\\hypak\\\\OneDrive - Singapore Management University\\\\Documents\\\\Data\\\\FABDEM_SG_30m\\\\SGDEM34.tif',\n",
       " 'C:\\\\Users\\\\hypak\\\\OneDrive - Singapore Management University\\\\Documents\\\\Data\\\\FABDEM_SG_30m\\\\SGDEM35.tif',\n",
       " 'C:\\\\Users\\\\hypak\\\\OneDrive - Singapore Management University\\\\Documents\\\\Data\\\\FABDEM_SG_30m\\\\SGDEM36.tif',\n",
       " 'C:\\\\Users\\\\hypak\\\\OneDrive - Singapore Management University\\\\Documents\\\\Data\\\\FABDEM_SG_30m\\\\SGDEM37.tif',\n",
       " 'C:\\\\Users\\\\hypak\\\\OneDrive - Singapore Management University\\\\Documents\\\\Data\\\\FABDEM_SG_30m\\\\SGDEM38.tif',\n",
       " 'C:\\\\Users\\\\hypak\\\\OneDrive - Singapore Management University\\\\Documents\\\\Data\\\\FABDEM_SG_30m\\\\SGDEM39.tif',\n",
       " 'C:\\\\Users\\\\hypak\\\\OneDrive - Singapore Management University\\\\Documents\\\\Data\\\\FABDEM_SG_30m\\\\SGDEM4.tif',\n",
       " 'C:\\\\Users\\\\hypak\\\\OneDrive - Singapore Management University\\\\Documents\\\\Data\\\\FABDEM_SG_30m\\\\SGDEM40.tif',\n",
       " 'C:\\\\Users\\\\hypak\\\\OneDrive - Singapore Management University\\\\Documents\\\\Data\\\\FABDEM_SG_30m\\\\SGDEM41.tif',\n",
       " 'C:\\\\Users\\\\hypak\\\\OneDrive - Singapore Management University\\\\Documents\\\\Data\\\\FABDEM_SG_30m\\\\SGDEM42.tif',\n",
       " 'C:\\\\Users\\\\hypak\\\\OneDrive - Singapore Management University\\\\Documents\\\\Data\\\\FABDEM_SG_30m\\\\SGDEM43.tif',\n",
       " 'C:\\\\Users\\\\hypak\\\\OneDrive - Singapore Management University\\\\Documents\\\\Data\\\\FABDEM_SG_30m\\\\SGDEM44.tif',\n",
       " 'C:\\\\Users\\\\hypak\\\\OneDrive - Singapore Management University\\\\Documents\\\\Data\\\\FABDEM_SG_30m\\\\SGDEM5.tif',\n",
       " 'C:\\\\Users\\\\hypak\\\\OneDrive - Singapore Management University\\\\Documents\\\\Data\\\\FABDEM_SG_30m\\\\SGDEM6.tif',\n",
       " 'C:\\\\Users\\\\hypak\\\\OneDrive - Singapore Management University\\\\Documents\\\\Data\\\\FABDEM_SG_30m\\\\SGDEM7.tif',\n",
       " 'C:\\\\Users\\\\hypak\\\\OneDrive - Singapore Management University\\\\Documents\\\\Data\\\\FABDEM_SG_30m\\\\SGDEM8.tif',\n",
       " 'C:\\\\Users\\\\hypak\\\\OneDrive - Singapore Management University\\\\Documents\\\\Data\\\\FABDEM_SG_30m\\\\SGDEM9.tif']"
      ]
     },
     "execution_count": 10,
     "metadata": {},
     "output_type": "execute_result"
    }
   ],
   "source": [
    "DEM_dir = r\"C:\\Users\\hypak\\OneDrive - Singapore Management University\\Documents\\Data\\FABDEM_SG_30m\"\n",
    "DEM_fps = [os.path.join(DEM_dir,fp) for fp in os.listdir(DEM_dir) if fnmatch.fnmatch(fp,\"SGDEM*.tif\")]\n",
    "DEM_fps"
   ]
  },
  {
   "cell_type": "markdown",
   "metadata": {},
   "source": [
    "## Calculate total land area"
   ]
  },
  {
   "cell_type": "code",
   "execution_count": 14,
   "metadata": {},
   "outputs": [
    {
     "name": "stdout",
     "output_type": "stream",
     "text": [
      "Total land area of singapore: 744.9543 km2\n"
     ]
    }
   ],
   "source": [
    "total_area = 0\n",
    "for fp in DEM_fps:\n",
    "    try:\n",
    "        raster = Raster(fp)\n",
    "        dem = raster.data(nodata=True)\n",
    "        # print(raster.shape,dem[dem>0].shape,dem[~np.isnan(dem)].shape)\n",
    "        total_area += dem[~np.isnan(dem)].shape[0]\n",
    "    except Exception as e:\n",
    "        print(f'{fp}: {e}')\n",
    "\n",
    "total_area = (total_area * 30*30)/(10**6)\n",
    "print(f'Total land area of singapore: {total_area} km2')"
   ]
  },
  {
   "cell_type": "markdown",
   "metadata": {},
   "source": [
    "# Calculate inundation area from SLR=4.0m"
   ]
  },
  {
   "cell_type": "code",
   "execution_count": 3,
   "metadata": {},
   "outputs": [
    {
     "data": {
      "text/plain": [
       "['C:\\\\Users\\\\hypak\\\\OneDrive - Singapore Management University\\\\Documents\\\\Data\\\\SG_SLR\\\\Inundation_maps\\\\SGDEM10_slr_4.tif',\n",
       " 'C:\\\\Users\\\\hypak\\\\OneDrive - Singapore Management University\\\\Documents\\\\Data\\\\SG_SLR\\\\Inundation_maps\\\\SGDEM11_slr_4.tif',\n",
       " 'C:\\\\Users\\\\hypak\\\\OneDrive - Singapore Management University\\\\Documents\\\\Data\\\\SG_SLR\\\\Inundation_maps\\\\SGDEM12_slr_4.tif',\n",
       " 'C:\\\\Users\\\\hypak\\\\OneDrive - Singapore Management University\\\\Documents\\\\Data\\\\SG_SLR\\\\Inundation_maps\\\\SGDEM13_slr_4.tif',\n",
       " 'C:\\\\Users\\\\hypak\\\\OneDrive - Singapore Management University\\\\Documents\\\\Data\\\\SG_SLR\\\\Inundation_maps\\\\SGDEM14_slr_4.tif',\n",
       " 'C:\\\\Users\\\\hypak\\\\OneDrive - Singapore Management University\\\\Documents\\\\Data\\\\SG_SLR\\\\Inundation_maps\\\\SGDEM15_slr_4.tif',\n",
       " 'C:\\\\Users\\\\hypak\\\\OneDrive - Singapore Management University\\\\Documents\\\\Data\\\\SG_SLR\\\\Inundation_maps\\\\SGDEM16_slr_4.tif',\n",
       " 'C:\\\\Users\\\\hypak\\\\OneDrive - Singapore Management University\\\\Documents\\\\Data\\\\SG_SLR\\\\Inundation_maps\\\\SGDEM17_slr_4.tif',\n",
       " 'C:\\\\Users\\\\hypak\\\\OneDrive - Singapore Management University\\\\Documents\\\\Data\\\\SG_SLR\\\\Inundation_maps\\\\SGDEM18_slr_4.tif',\n",
       " 'C:\\\\Users\\\\hypak\\\\OneDrive - Singapore Management University\\\\Documents\\\\Data\\\\SG_SLR\\\\Inundation_maps\\\\SGDEM19_slr_4.tif',\n",
       " 'C:\\\\Users\\\\hypak\\\\OneDrive - Singapore Management University\\\\Documents\\\\Data\\\\SG_SLR\\\\Inundation_maps\\\\SGDEM1_slr_4.tif',\n",
       " 'C:\\\\Users\\\\hypak\\\\OneDrive - Singapore Management University\\\\Documents\\\\Data\\\\SG_SLR\\\\Inundation_maps\\\\SGDEM20_slr_4.tif',\n",
       " 'C:\\\\Users\\\\hypak\\\\OneDrive - Singapore Management University\\\\Documents\\\\Data\\\\SG_SLR\\\\Inundation_maps\\\\SGDEM21_slr_4.tif',\n",
       " 'C:\\\\Users\\\\hypak\\\\OneDrive - Singapore Management University\\\\Documents\\\\Data\\\\SG_SLR\\\\Inundation_maps\\\\SGDEM22_slr_4.tif',\n",
       " 'C:\\\\Users\\\\hypak\\\\OneDrive - Singapore Management University\\\\Documents\\\\Data\\\\SG_SLR\\\\Inundation_maps\\\\SGDEM23_slr_4.tif',\n",
       " 'C:\\\\Users\\\\hypak\\\\OneDrive - Singapore Management University\\\\Documents\\\\Data\\\\SG_SLR\\\\Inundation_maps\\\\SGDEM24_slr_4.tif',\n",
       " 'C:\\\\Users\\\\hypak\\\\OneDrive - Singapore Management University\\\\Documents\\\\Data\\\\SG_SLR\\\\Inundation_maps\\\\SGDEM25_slr_4.tif',\n",
       " 'C:\\\\Users\\\\hypak\\\\OneDrive - Singapore Management University\\\\Documents\\\\Data\\\\SG_SLR\\\\Inundation_maps\\\\SGDEM26_slr_4.tif',\n",
       " 'C:\\\\Users\\\\hypak\\\\OneDrive - Singapore Management University\\\\Documents\\\\Data\\\\SG_SLR\\\\Inundation_maps\\\\SGDEM27_slr_4.tif',\n",
       " 'C:\\\\Users\\\\hypak\\\\OneDrive - Singapore Management University\\\\Documents\\\\Data\\\\SG_SLR\\\\Inundation_maps\\\\SGDEM28_slr_4.tif',\n",
       " 'C:\\\\Users\\\\hypak\\\\OneDrive - Singapore Management University\\\\Documents\\\\Data\\\\SG_SLR\\\\Inundation_maps\\\\SGDEM29_slr_4.tif',\n",
       " 'C:\\\\Users\\\\hypak\\\\OneDrive - Singapore Management University\\\\Documents\\\\Data\\\\SG_SLR\\\\Inundation_maps\\\\SGDEM2_slr_4.tif',\n",
       " 'C:\\\\Users\\\\hypak\\\\OneDrive - Singapore Management University\\\\Documents\\\\Data\\\\SG_SLR\\\\Inundation_maps\\\\SGDEM30_slr_4.tif',\n",
       " 'C:\\\\Users\\\\hypak\\\\OneDrive - Singapore Management University\\\\Documents\\\\Data\\\\SG_SLR\\\\Inundation_maps\\\\SGDEM31_slr_4.tif',\n",
       " 'C:\\\\Users\\\\hypak\\\\OneDrive - Singapore Management University\\\\Documents\\\\Data\\\\SG_SLR\\\\Inundation_maps\\\\SGDEM32_slr_4.tif',\n",
       " 'C:\\\\Users\\\\hypak\\\\OneDrive - Singapore Management University\\\\Documents\\\\Data\\\\SG_SLR\\\\Inundation_maps\\\\SGDEM34_slr_4.tif',\n",
       " 'C:\\\\Users\\\\hypak\\\\OneDrive - Singapore Management University\\\\Documents\\\\Data\\\\SG_SLR\\\\Inundation_maps\\\\SGDEM35_slr_4.tif',\n",
       " 'C:\\\\Users\\\\hypak\\\\OneDrive - Singapore Management University\\\\Documents\\\\Data\\\\SG_SLR\\\\Inundation_maps\\\\SGDEM36_slr_4.tif',\n",
       " 'C:\\\\Users\\\\hypak\\\\OneDrive - Singapore Management University\\\\Documents\\\\Data\\\\SG_SLR\\\\Inundation_maps\\\\SGDEM37_slr_4.tif',\n",
       " 'C:\\\\Users\\\\hypak\\\\OneDrive - Singapore Management University\\\\Documents\\\\Data\\\\SG_SLR\\\\Inundation_maps\\\\SGDEM38_slr_4.tif',\n",
       " 'C:\\\\Users\\\\hypak\\\\OneDrive - Singapore Management University\\\\Documents\\\\Data\\\\SG_SLR\\\\Inundation_maps\\\\SGDEM39_slr_4.tif',\n",
       " 'C:\\\\Users\\\\hypak\\\\OneDrive - Singapore Management University\\\\Documents\\\\Data\\\\SG_SLR\\\\Inundation_maps\\\\SGDEM3_slr_4.tif',\n",
       " 'C:\\\\Users\\\\hypak\\\\OneDrive - Singapore Management University\\\\Documents\\\\Data\\\\SG_SLR\\\\Inundation_maps\\\\SGDEM40_slr_4.tif',\n",
       " 'C:\\\\Users\\\\hypak\\\\OneDrive - Singapore Management University\\\\Documents\\\\Data\\\\SG_SLR\\\\Inundation_maps\\\\SGDEM41_slr_4.tif',\n",
       " 'C:\\\\Users\\\\hypak\\\\OneDrive - Singapore Management University\\\\Documents\\\\Data\\\\SG_SLR\\\\Inundation_maps\\\\SGDEM42_slr_4.tif',\n",
       " 'C:\\\\Users\\\\hypak\\\\OneDrive - Singapore Management University\\\\Documents\\\\Data\\\\SG_SLR\\\\Inundation_maps\\\\SGDEM43_slr_4.tif',\n",
       " 'C:\\\\Users\\\\hypak\\\\OneDrive - Singapore Management University\\\\Documents\\\\Data\\\\SG_SLR\\\\Inundation_maps\\\\SGDEM44_slr_4.tif',\n",
       " 'C:\\\\Users\\\\hypak\\\\OneDrive - Singapore Management University\\\\Documents\\\\Data\\\\SG_SLR\\\\Inundation_maps\\\\SGDEM4_slr_4.tif',\n",
       " 'C:\\\\Users\\\\hypak\\\\OneDrive - Singapore Management University\\\\Documents\\\\Data\\\\SG_SLR\\\\Inundation_maps\\\\SGDEM5_slr_4.tif',\n",
       " 'C:\\\\Users\\\\hypak\\\\OneDrive - Singapore Management University\\\\Documents\\\\Data\\\\SG_SLR\\\\Inundation_maps\\\\SGDEM7_slr_4.tif',\n",
       " 'C:\\\\Users\\\\hypak\\\\OneDrive - Singapore Management University\\\\Documents\\\\Data\\\\SG_SLR\\\\Inundation_maps\\\\SGDEM8_slr_4.tif',\n",
       " 'C:\\\\Users\\\\hypak\\\\OneDrive - Singapore Management University\\\\Documents\\\\Data\\\\SG_SLR\\\\Inundation_maps\\\\SGDEM9_slr_4.tif']"
      ]
     },
     "execution_count": 3,
     "metadata": {},
     "output_type": "execute_result"
    }
   ],
   "source": [
    "slr_4m_dir = r\"C:\\Users\\hypak\\OneDrive - Singapore Management University\\Documents\\Data\\SG_SLR\\Inundation_maps\"\n",
    "slr_4m_fps = [os.path.join(slr_4m_dir,fp) for fp in os.listdir(slr_4m_dir) if fnmatch.fnmatch(fp,\"SGDEM*.tif\")]\n",
    "slr_4m_fps"
   ]
  },
  {
   "cell_type": "code",
   "execution_count": 17,
   "metadata": {},
   "outputs": [
    {
     "name": "stdout",
     "output_type": "stream",
     "text": [
      "Total inundated land area of singapore: 47.9349 km2\n",
      "Percentage land area inundated: 6.43%\n"
     ]
    }
   ],
   "source": [
    "inundated_4m = 0\n",
    "for fp in slr_4m_fps:\n",
    "    try:\n",
    "        raster = Raster(fp)\n",
    "        dem = raster.data(nodata=True)\n",
    "        # print(raster.shape,dem[dem>0].shape,dem[~np.isnan(dem)].shape)\n",
    "        inundated_4m += dem[~np.isnan(dem)].shape[0]\n",
    "\n",
    "    except Exception as e:\n",
    "        print(f'{fp}: {e}')\n",
    "\n",
    "inundated_4m = (inundated_4m * 30*30)/(10**6)\n",
    "print(f'Total inundated land area of singapore: {inundated_4m} km2')\n",
    "print(f'Percentage land area inundated: {inundated_4m/total_area*100:.2f}%')"
   ]
  },
  {
   "cell_type": "markdown",
   "metadata": {},
   "source": [
    "## Convert to binary files"
   ]
  },
  {
   "cell_type": "code",
   "execution_count": 44,
   "metadata": {},
   "outputs": [
    {
     "name": "stdout",
     "output_type": "stream",
     "text": [
      "C:\\Users\\hypak\\OneDrive - Singapore Management University\\Documents\\Data\\SG_SLR\\Inundation_maps\\SGDEM36_slr_4.tif: Deleting C:/Users/hypak/OneDrive - Singapore Management University/Documents/Data/SG_SLR/Inundation_maps/flooded_bool/SGDEM36_slr_4.tif failed: Permission denied\n"
     ]
    }
   ],
   "source": [
    "save_dir = r\"C:\\Users\\hypak\\OneDrive - Singapore Management University\\Documents\\Data\\SG_SLR\\Inundation_maps\"\n",
    "save_dir = os.path.join(save_dir,\"flooded_bool\")\n",
    "if not os.path.exists(save_dir):\n",
    "    os.mkdir(save_dir)\n",
    "for fp in slr_4m_fps:\n",
    "    try:\n",
    "        raster = Raster(fp)\n",
    "        # dem = raster.data(nodata=True)\n",
    "        # print(raster.shape,dem[dem>0].shape,dem[~np.isnan(dem)].shape)\n",
    "        # inundated_4m += dem[~np.isnan(dem)].shape[0]\n",
    "        flooded_raster = raster.__gt__(0)\n",
    "        # flooded_raster = flooded_raster.astype(np.uint8)\n",
    "        filename = os.path.basename(fp)\n",
    "        filename = os.path.join(save_dir,filename)\n",
    "        # astype method returns a raster\n",
    "        flooded_binary = flooded_raster.astype(int)\n",
    "        # writeNodata method does not return\n",
    "        flooded_binary.writeNodata(0)\n",
    "        flooded_binary.writeRaster(filename, dtype = 'int8') # cast boolean to binary, and set nodata as 0\n",
    "\n",
    "    except Exception as e:\n",
    "        print(f'{fp}: {e}')\n",
    "\n",
    "    "
   ]
  },
  {
   "cell_type": "markdown",
   "metadata": {},
   "source": [
    "# Calculate inundation area from SLR=5.0m"
   ]
  },
  {
   "cell_type": "code",
   "execution_count": 4,
   "metadata": {},
   "outputs": [
    {
     "data": {
      "text/plain": [
       "['C:\\\\Users\\\\hypak\\\\OneDrive - Singapore Management University\\\\Documents\\\\Data\\\\SG_SLR\\\\Inundation_maps_5m\\\\SGDEM10_slr_5.tif',\n",
       " 'C:\\\\Users\\\\hypak\\\\OneDrive - Singapore Management University\\\\Documents\\\\Data\\\\SG_SLR\\\\Inundation_maps_5m\\\\SGDEM11_slr_5.tif',\n",
       " 'C:\\\\Users\\\\hypak\\\\OneDrive - Singapore Management University\\\\Documents\\\\Data\\\\SG_SLR\\\\Inundation_maps_5m\\\\SGDEM12_slr_5.tif',\n",
       " 'C:\\\\Users\\\\hypak\\\\OneDrive - Singapore Management University\\\\Documents\\\\Data\\\\SG_SLR\\\\Inundation_maps_5m\\\\SGDEM13_slr_5.tif',\n",
       " 'C:\\\\Users\\\\hypak\\\\OneDrive - Singapore Management University\\\\Documents\\\\Data\\\\SG_SLR\\\\Inundation_maps_5m\\\\SGDEM14_slr_5.tif',\n",
       " 'C:\\\\Users\\\\hypak\\\\OneDrive - Singapore Management University\\\\Documents\\\\Data\\\\SG_SLR\\\\Inundation_maps_5m\\\\SGDEM15_slr_5.tif',\n",
       " 'C:\\\\Users\\\\hypak\\\\OneDrive - Singapore Management University\\\\Documents\\\\Data\\\\SG_SLR\\\\Inundation_maps_5m\\\\SGDEM16_slr_5.tif',\n",
       " 'C:\\\\Users\\\\hypak\\\\OneDrive - Singapore Management University\\\\Documents\\\\Data\\\\SG_SLR\\\\Inundation_maps_5m\\\\SGDEM17_slr_5.tif',\n",
       " 'C:\\\\Users\\\\hypak\\\\OneDrive - Singapore Management University\\\\Documents\\\\Data\\\\SG_SLR\\\\Inundation_maps_5m\\\\SGDEM18_slr_5.tif',\n",
       " 'C:\\\\Users\\\\hypak\\\\OneDrive - Singapore Management University\\\\Documents\\\\Data\\\\SG_SLR\\\\Inundation_maps_5m\\\\SGDEM19_slr_5.tif',\n",
       " 'C:\\\\Users\\\\hypak\\\\OneDrive - Singapore Management University\\\\Documents\\\\Data\\\\SG_SLR\\\\Inundation_maps_5m\\\\SGDEM1_slr_5.tif',\n",
       " 'C:\\\\Users\\\\hypak\\\\OneDrive - Singapore Management University\\\\Documents\\\\Data\\\\SG_SLR\\\\Inundation_maps_5m\\\\SGDEM20_slr_5.tif',\n",
       " 'C:\\\\Users\\\\hypak\\\\OneDrive - Singapore Management University\\\\Documents\\\\Data\\\\SG_SLR\\\\Inundation_maps_5m\\\\SGDEM21_slr_5.tif',\n",
       " 'C:\\\\Users\\\\hypak\\\\OneDrive - Singapore Management University\\\\Documents\\\\Data\\\\SG_SLR\\\\Inundation_maps_5m\\\\SGDEM22_slr_5.tif',\n",
       " 'C:\\\\Users\\\\hypak\\\\OneDrive - Singapore Management University\\\\Documents\\\\Data\\\\SG_SLR\\\\Inundation_maps_5m\\\\SGDEM23_slr_5.tif',\n",
       " 'C:\\\\Users\\\\hypak\\\\OneDrive - Singapore Management University\\\\Documents\\\\Data\\\\SG_SLR\\\\Inundation_maps_5m\\\\SGDEM24_slr_5.tif',\n",
       " 'C:\\\\Users\\\\hypak\\\\OneDrive - Singapore Management University\\\\Documents\\\\Data\\\\SG_SLR\\\\Inundation_maps_5m\\\\SGDEM25_slr_5.tif',\n",
       " 'C:\\\\Users\\\\hypak\\\\OneDrive - Singapore Management University\\\\Documents\\\\Data\\\\SG_SLR\\\\Inundation_maps_5m\\\\SGDEM26_slr_5.tif',\n",
       " 'C:\\\\Users\\\\hypak\\\\OneDrive - Singapore Management University\\\\Documents\\\\Data\\\\SG_SLR\\\\Inundation_maps_5m\\\\SGDEM27_slr_5.tif',\n",
       " 'C:\\\\Users\\\\hypak\\\\OneDrive - Singapore Management University\\\\Documents\\\\Data\\\\SG_SLR\\\\Inundation_maps_5m\\\\SGDEM28_slr_5.tif',\n",
       " 'C:\\\\Users\\\\hypak\\\\OneDrive - Singapore Management University\\\\Documents\\\\Data\\\\SG_SLR\\\\Inundation_maps_5m\\\\SGDEM29_slr_5.tif',\n",
       " 'C:\\\\Users\\\\hypak\\\\OneDrive - Singapore Management University\\\\Documents\\\\Data\\\\SG_SLR\\\\Inundation_maps_5m\\\\SGDEM2_slr_5.tif',\n",
       " 'C:\\\\Users\\\\hypak\\\\OneDrive - Singapore Management University\\\\Documents\\\\Data\\\\SG_SLR\\\\Inundation_maps_5m\\\\SGDEM30_slr_5.tif',\n",
       " 'C:\\\\Users\\\\hypak\\\\OneDrive - Singapore Management University\\\\Documents\\\\Data\\\\SG_SLR\\\\Inundation_maps_5m\\\\SGDEM31_slr_5.tif',\n",
       " 'C:\\\\Users\\\\hypak\\\\OneDrive - Singapore Management University\\\\Documents\\\\Data\\\\SG_SLR\\\\Inundation_maps_5m\\\\SGDEM32_slr_5.tif',\n",
       " 'C:\\\\Users\\\\hypak\\\\OneDrive - Singapore Management University\\\\Documents\\\\Data\\\\SG_SLR\\\\Inundation_maps_5m\\\\SGDEM34_slr_5.tif',\n",
       " 'C:\\\\Users\\\\hypak\\\\OneDrive - Singapore Management University\\\\Documents\\\\Data\\\\SG_SLR\\\\Inundation_maps_5m\\\\SGDEM35_slr_5.tif',\n",
       " 'C:\\\\Users\\\\hypak\\\\OneDrive - Singapore Management University\\\\Documents\\\\Data\\\\SG_SLR\\\\Inundation_maps_5m\\\\SGDEM36_slr_5.tif',\n",
       " 'C:\\\\Users\\\\hypak\\\\OneDrive - Singapore Management University\\\\Documents\\\\Data\\\\SG_SLR\\\\Inundation_maps_5m\\\\SGDEM37_slr_5.tif',\n",
       " 'C:\\\\Users\\\\hypak\\\\OneDrive - Singapore Management University\\\\Documents\\\\Data\\\\SG_SLR\\\\Inundation_maps_5m\\\\SGDEM38_slr_5.tif',\n",
       " 'C:\\\\Users\\\\hypak\\\\OneDrive - Singapore Management University\\\\Documents\\\\Data\\\\SG_SLR\\\\Inundation_maps_5m\\\\SGDEM39_slr_5.tif',\n",
       " 'C:\\\\Users\\\\hypak\\\\OneDrive - Singapore Management University\\\\Documents\\\\Data\\\\SG_SLR\\\\Inundation_maps_5m\\\\SGDEM3_slr_5.tif',\n",
       " 'C:\\\\Users\\\\hypak\\\\OneDrive - Singapore Management University\\\\Documents\\\\Data\\\\SG_SLR\\\\Inundation_maps_5m\\\\SGDEM40_slr_5.tif',\n",
       " 'C:\\\\Users\\\\hypak\\\\OneDrive - Singapore Management University\\\\Documents\\\\Data\\\\SG_SLR\\\\Inundation_maps_5m\\\\SGDEM41_slr_5.tif',\n",
       " 'C:\\\\Users\\\\hypak\\\\OneDrive - Singapore Management University\\\\Documents\\\\Data\\\\SG_SLR\\\\Inundation_maps_5m\\\\SGDEM42_slr_5.tif',\n",
       " 'C:\\\\Users\\\\hypak\\\\OneDrive - Singapore Management University\\\\Documents\\\\Data\\\\SG_SLR\\\\Inundation_maps_5m\\\\SGDEM43_slr_5.tif',\n",
       " 'C:\\\\Users\\\\hypak\\\\OneDrive - Singapore Management University\\\\Documents\\\\Data\\\\SG_SLR\\\\Inundation_maps_5m\\\\SGDEM44_slr_5.tif',\n",
       " 'C:\\\\Users\\\\hypak\\\\OneDrive - Singapore Management University\\\\Documents\\\\Data\\\\SG_SLR\\\\Inundation_maps_5m\\\\SGDEM4_slr_5.tif',\n",
       " 'C:\\\\Users\\\\hypak\\\\OneDrive - Singapore Management University\\\\Documents\\\\Data\\\\SG_SLR\\\\Inundation_maps_5m\\\\SGDEM5_slr_5.tif',\n",
       " 'C:\\\\Users\\\\hypak\\\\OneDrive - Singapore Management University\\\\Documents\\\\Data\\\\SG_SLR\\\\Inundation_maps_5m\\\\SGDEM7_slr_5.tif',\n",
       " 'C:\\\\Users\\\\hypak\\\\OneDrive - Singapore Management University\\\\Documents\\\\Data\\\\SG_SLR\\\\Inundation_maps_5m\\\\SGDEM8_slr_5.tif',\n",
       " 'C:\\\\Users\\\\hypak\\\\OneDrive - Singapore Management University\\\\Documents\\\\Data\\\\SG_SLR\\\\Inundation_maps_5m\\\\SGDEM9_slr_5.tif']"
      ]
     },
     "execution_count": 4,
     "metadata": {},
     "output_type": "execute_result"
    }
   ],
   "source": [
    "slr_5m_dir = r\"C:\\Users\\hypak\\OneDrive - Singapore Management University\\Documents\\Data\\SG_SLR\\Inundation_maps_5m\"\n",
    "slr_5m_fps = [os.path.join(slr_5m_dir,fp) for fp in os.listdir(slr_5m_dir) if fnmatch.fnmatch(fp,\"SGDEM*.tif\")]\n",
    "slr_5m_fps"
   ]
  },
  {
   "cell_type": "code",
   "execution_count": 18,
   "metadata": {},
   "outputs": [
    {
     "name": "stdout",
     "output_type": "stream",
     "text": [
      "Total inundated land area of singapore: 110.0349 km2\n",
      "Percentage land area inundated: 14.77%\n"
     ]
    }
   ],
   "source": [
    "inundated_5m = 0\n",
    "for fp in slr_5m_fps:\n",
    "    try:\n",
    "        raster = Raster(fp)\n",
    "        dem = raster.data(nodata=True)\n",
    "        # print(raster.shape,dem[dem>0].shape,dem[~np.isnan(dem)].shape)\n",
    "        inundated_5m += dem[~np.isnan(dem)].shape[0]\n",
    "\n",
    "    except Exception as e:\n",
    "        print(f'{fp}: {e}')\n",
    "\n",
    "inundated_5m = (inundated_5m * 30*30)/(10**6)\n",
    "print(f'Total inundated land area of singapore: {inundated_5m} km2')\n",
    "print(f'Percentage land area inundated: {inundated_5m/total_area*100:.2f}%')"
   ]
  }
 ],
 "metadata": {
  "kernelspec": {
   "display_name": "FlowTubSG",
   "language": "python",
   "name": "python3"
  },
  "language_info": {
   "codemirror_mode": {
    "name": "ipython",
    "version": 3
   },
   "file_extension": ".py",
   "mimetype": "text/x-python",
   "name": "python",
   "nbconvert_exporter": "python",
   "pygments_lexer": "ipython3",
   "version": "3.9.19"
  }
 },
 "nbformat": 4,
 "nbformat_minor": 2
}
